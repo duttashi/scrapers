{
 "cells": [
  {
   "cell_type": "markdown",
   "metadata": {},
   "source": [
    "Aim: Crawl the webiste `https://votable.net/`\n",
    "Objective: \n",
    "    1. Create a crawler to extract the post title, creator, time, vote count, post type and count of words\n",
    "    2. Extend the crawler to extract data from subsequent pages"
   ]
  },
  {
   "cell_type": "code",
   "execution_count": 1,
   "metadata": {},
   "outputs": [],
   "source": [
    "# import the required libraries\n",
    "import scrapy\n",
    "from scrapy.crawler import CrawlerProcess\n",
    "import logging"
   ]
  },
  {
   "cell_type": "code",
   "execution_count": 2,
   "metadata": {},
   "outputs": [],
   "source": [
    "# Define the spider\n",
    "class VotableSpider(scrapy.Spider):\n",
    "    name = \"votable\"\n",
    "    start_urls = [\n",
    "        'https://votable.net/',\n",
    "        'https://votable.net/?offset=10',\n",
    "    ]\n",
    "    custom_settings = {\n",
    "        'LOG_LEVEL': logging.WARNING,\n",
    "        }\n",
    "    \n",
    "    def parse(self, response):\n",
    "        self.logger.info('Hi, this is an item page! %s', response.url)\n",
    "        item = scrapy.Item()\n",
    "        item['title'] = response.xpath('//div/h3/text()').extract()\n",
    "        #item['name'] = response.xpath('//td[@id=\"item_name\"]/text()').extract()\n",
    "        #item['description'] = response.xpath('//td[@id=\"item_description\"]/text()').extract()\n",
    "        return item"
   ]
  },
  {
   "cell_type": "code",
   "execution_count": 3,
   "metadata": {},
   "outputs": [
    {
     "name": "stderr",
     "output_type": "stream",
     "text": [
      "2018-09-25 11:20:30 [scrapy.utils.log] INFO: Scrapy 1.5.1 started (bot: scrapybot)\n",
      "2018-09-25 11:20:30 [scrapy.utils.log] INFO: Versions: lxml 4.2.4.0, libxml2 2.9.8, cssselect 1.0.3, parsel 1.5.0, w3lib 1.19.0, Twisted 18.7.0, Python 3.6.5 |Anaconda, Inc.| (default, Mar 29 2018, 13:32:41) [MSC v.1900 64 bit (AMD64)], pyOpenSSL 18.0.0 (OpenSSL 1.0.2p  14 Aug 2018), cryptography 2.2.2, Platform Windows-7-6.1.7601-SP1\n",
      "2018-09-25 11:20:30 [scrapy.crawler] INFO: Overridden settings: {'LOG_LEVEL': 30, 'USER_AGENT': 'Mozilla/4.0 (compatible; MSIE 7.0; Windows NT 5.1)'}\n",
      "2018-09-25 11:20:33 [scrapy.core.scraper] ERROR: Spider error processing <GET https://votable.net/?offset=10> (referer: None)\n",
      "Traceback (most recent call last):\n",
      "  File \"C:\\Users\\Ashoo\\Miniconda3\\lib\\site-packages\\twisted\\internet\\defer.py\", line 654, in _runCallbacks\n",
      "    current.result = callback(current.result, *args, **kw)\n",
      "  File \"<ipython-input-2-acfe1dc44f16>\", line 15, in parse\n",
      "    item['title'] = response.xpath('//div/h3/text()').extract()\n",
      "  File \"C:\\Users\\Ashoo\\Miniconda3\\lib\\site-packages\\scrapy\\item.py\", line 66, in __setitem__\n",
      "    (self.__class__.__name__, key))\n",
      "KeyError: 'Item does not support field: title'\n",
      "2018-09-25 11:20:35 [scrapy.core.scraper] ERROR: Spider error processing <GET https://votable.net/> (referer: None)\n",
      "Traceback (most recent call last):\n",
      "  File \"C:\\Users\\Ashoo\\Miniconda3\\lib\\site-packages\\twisted\\internet\\defer.py\", line 654, in _runCallbacks\n",
      "    current.result = callback(current.result, *args, **kw)\n",
      "  File \"<ipython-input-2-acfe1dc44f16>\", line 15, in parse\n",
      "    item['title'] = response.xpath('//div/h3/text()').extract()\n",
      "  File \"C:\\Users\\Ashoo\\Miniconda3\\lib\\site-packages\\scrapy\\item.py\", line 66, in __setitem__\n",
      "    (self.__class__.__name__, key))\n",
      "KeyError: 'Item does not support field: title'\n"
     ]
    }
   ],
   "source": [
    "# Start the crawl\n",
    "process = CrawlerProcess({\n",
    "    'USER_AGENT': 'Mozilla/4.0 (compatible; MSIE 7.0; Windows NT 5.1)'\n",
    "})\n",
    "\n",
    "process.crawl(VotableSpider)\n",
    "process.start()"
   ]
  },
  {
   "cell_type": "code",
   "execution_count": null,
   "metadata": {},
   "outputs": [],
   "source": []
  }
 ],
 "metadata": {
  "kernelspec": {
   "display_name": "Python 3",
   "language": "python",
   "name": "python3"
  },
  "language_info": {
   "codemirror_mode": {
    "name": "ipython",
    "version": 3
   },
   "file_extension": ".py",
   "mimetype": "text/x-python",
   "name": "python",
   "nbconvert_exporter": "python",
   "pygments_lexer": "ipython3",
   "version": "3.6.5"
  }
 },
 "nbformat": 4,
 "nbformat_minor": 2
}
